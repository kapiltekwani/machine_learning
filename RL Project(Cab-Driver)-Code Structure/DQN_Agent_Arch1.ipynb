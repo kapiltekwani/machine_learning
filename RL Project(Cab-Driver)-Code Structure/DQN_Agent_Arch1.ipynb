{
 "cells": [
  {
   "cell_type": "markdown",
   "metadata": {
    "colab_type": "text",
    "id": "mUcl5AQTJbHV"
   },
   "source": [
    "### Cab-Driver Agent"
   ]
  },
  {
   "cell_type": "code",
   "execution_count": 1,
   "metadata": {
    "colab": {
     "base_uri": "https://localhost:8080/",
     "height": 34
    },
    "colab_type": "code",
    "executionInfo": {
     "elapsed": 1624,
     "status": "ok",
     "timestamp": 1550864308726,
     "user": {
      "displayName": "Abhishek Srivastava",
      "photoUrl": "",
      "userId": "01956589398473743560"
     },
     "user_tz": -330
    },
    "id": "uG7bKnXiI0cj",
    "outputId": "c78deb06-56c9-4498-ebff-78f3a397b310"
   },
   "outputs": [
    {
     "ename": "ModuleNotFoundError",
     "evalue": "No module named 'google.colab'",
     "output_type": "error",
     "traceback": [
      "\u001b[0;31m---------------------------------------------------------------------------\u001b[0m",
      "\u001b[0;31mModuleNotFoundError\u001b[0m                       Traceback (most recent call last)",
      "\u001b[0;32m<ipython-input-1-a52e1d9d4929>\u001b[0m in \u001b[0;36m<module>\u001b[0;34m()\u001b[0m\n\u001b[1;32m      1\u001b[0m \u001b[0;31m#Google Colab specific\u001b[0m\u001b[0;34m\u001b[0m\u001b[0;34m\u001b[0m\u001b[0m\n\u001b[0;32m----> 2\u001b[0;31m \u001b[0;32mfrom\u001b[0m \u001b[0mgoogle\u001b[0m\u001b[0;34m.\u001b[0m\u001b[0mcolab\u001b[0m \u001b[0;32mimport\u001b[0m \u001b[0mdrive\u001b[0m\u001b[0;34m\u001b[0m\u001b[0m\n\u001b[0m\u001b[1;32m      3\u001b[0m \u001b[0mdrive\u001b[0m\u001b[0;34m.\u001b[0m\u001b[0mmount\u001b[0m\u001b[0;34m(\u001b[0m\u001b[0;34m'/content/drive'\u001b[0m\u001b[0;34m)\u001b[0m\u001b[0;34m\u001b[0m\u001b[0m\n",
      "\u001b[0;31mModuleNotFoundError\u001b[0m: No module named 'google.colab'"
     ]
    }
   ],
   "source": [
    "#Google Colab specific\n",
    "from google.colab import drive\n",
    "drive.mount('/content/drive')\n"
   ]
  },
  {
   "cell_type": "code",
   "execution_count": null,
   "metadata": {
    "colab": {
     "base_uri": "https://localhost:8080/",
     "height": 68
    },
    "colab_type": "code",
    "executionInfo": {
     "elapsed": 5664,
     "status": "ok",
     "timestamp": 1550864312780,
     "user": {
      "displayName": "Abhishek Srivastava",
      "photoUrl": "",
      "userId": "01956589398473743560"
     },
     "user_tz": -330
    },
    "id": "qeKRqCjnIyys",
    "outputId": "217d2365-ba66-4884-fae2-467eb39fda48"
   },
   "outputs": [],
   "source": [
    "path = \"/content/drive/My Drive/Colab Notebooks/DriverLearning/RL Project(Cab-Driver)-Code Structure\"\n",
    "\n",
    "!ls \"/content/drive/My Drive/Colab Notebooks/DriverLearning/RL Project(Cab-Driver)-Code Structure\"\n",
    "\n",
    "\n",
    "import os\n",
    "os.environ['PYTHONPATH'] =\"/content/drive/My Drive/Colab Notebooks/DriverLearning/RL Project(Cab-Driver)-Code Structure\"\n",
    "\n",
    "!echo $PYTHONPATH\n",
    "\n",
    "import sys\n",
    "sys.path.append(\"/content/drive/My Drive/Colab Notebooks/DriverLearning/RL Project(Cab-Driver)-Code Structure/\")"
   ]
  },
  {
   "cell_type": "code",
   "execution_count": null,
   "metadata": {
    "colab": {
     "base_uri": "https://localhost:8080/",
     "height": 34
    },
    "colab_type": "code",
    "executionInfo": {
     "elapsed": 6946,
     "status": "ok",
     "timestamp": 1550864314072,
     "user": {
      "displayName": "Abhishek Srivastava",
      "photoUrl": "",
      "userId": "01956589398473743560"
     },
     "user_tz": -330
    },
    "id": "FpMDwRxEJbHW",
    "outputId": "bcd302c8-3ee7-4bba-ea26-c413de8db54d"
   },
   "outputs": [],
   "source": [
    "# Importing libraries\n",
    "import numpy as np\n",
    "import random\n",
    "import math\n",
    "from collections import deque\n",
    "import collections\n",
    "import pickle\n",
    "\n",
    "# for building DQN model\n",
    "from keras import layers\n",
    "from keras import Sequential\n",
    "from keras.layers import Dense, Activation, Flatten\n",
    "from keras.optimizers import Adam\n",
    "\n",
    "# for plotting graphs\n",
    "import matplotlib.pyplot as plt\n",
    "\n",
    "# Import the environment\n",
    "from Env import CabDriver"
   ]
  },
  {
   "cell_type": "markdown",
   "metadata": {
    "colab_type": "text",
    "id": "n0i5s2APJbHY"
   },
   "source": [
    "#### Defining Time Matrix"
   ]
  },
  {
   "cell_type": "code",
   "execution_count": null,
   "metadata": {
    "colab": {},
    "colab_type": "code",
    "id": "4r12zr5KJbHZ"
   },
   "outputs": [],
   "source": [
    "# Loading the time matrix provided\n",
    "project_root = \"/content/drive/My Drive/Colab Notebooks/DriverLearning/RL Project(Cab-Driver)-Code Structure/\"\n",
    "model_weight_folder  = project_root + \"model_output/\"\n",
    "data_file = project_root + \"TM.npy\"\n",
    "Time_matrix = np.load(data_file)"
   ]
  },
  {
   "cell_type": "markdown",
   "metadata": {
    "colab_type": "text",
    "id": "ZRtuJQTNJbHd"
   },
   "source": [
    "#### Tracking the state-action pairs for checking convergence\n"
   ]
  },
  {
   "cell_type": "code",
   "execution_count": null,
   "metadata": {
    "colab": {},
    "colab_type": "code",
    "id": "MvdfLdQbJbHe"
   },
   "outputs": [],
   "source": [
    "Q_dict = collections.defaultdict(dict)\n",
    "States_track = collections.defaultdict(dict)\n",
    "\n",
    "# rewards_tracked = {(15,0):[],(25,1):[], (20,2): [], (30,3):[], (35,4):[], (10,5):[],(50,6):[]}\n",
    "\n",
    "print(len(Q_dict))\n",
    "print(len(States_track))\n"
   ]
  },
  {
   "cell_type": "code",
   "execution_count": null,
   "metadata": {
    "colab": {},
    "colab_type": "code",
    "id": "O4l__i0oGLow"
   },
   "outputs": [],
   "source": []
  },
  {
   "cell_type": "code",
   "execution_count": null,
   "metadata": {
    "colab": {},
    "colab_type": "code",
    "id": "yzwhOiLAJbHh"
   },
   "outputs": [],
   "source": [
    "with open('Policy.pkl', 'rb') as handle:\n",
    "    Q_dict = pickle.load(handle)\n",
    "    \n",
    "with open('Rewards.pkl', 'rb') as handle:\n",
    "    rewards_tracked = pickle.load(handle)    \n",
    "\n",
    "with open('States_tracked.pkl', 'rb') as handle:\n",
    "    States_track = pickle.load(handle)    \n",
    "    \n",
    "print(len(Q_dict))\n",
    "print(len(rewards_tracked))\n",
    "print(len(States_track))"
   ]
  },
  {
   "cell_type": "code",
   "execution_count": null,
   "metadata": {
    "colab": {},
    "colab_type": "code",
    "id": "_3I7pEa-JbHk"
   },
   "outputs": [],
   "source": [
    "#Defining a function which will add new Q-values to the Q-dictionary\n",
    "\n",
    "def add_to_dict(state,valid_act):\n",
    "    \n",
    "    if state not in Q_dict.keys():\n",
    "        Q_dict[state] = {}\n",
    "        for action in valid_act:\n",
    "            Q_dict[state][action] = 0.0"
   ]
  },
  {
   "cell_type": "code",
   "execution_count": null,
   "metadata": {
    "colab": {},
    "colab_type": "code",
    "id": "bYho8Qy-9Hkb"
   },
   "outputs": [],
   "source": [
    "#This function will initialise the 7 Q-values which need to be tracked for checking convergence\n",
    "\n",
    "#iters = []                            #the x-axis of convergence graphs\n",
    "\n",
    "def initialise_tracking_states():\n",
    "    sample_q_values = [((15,0),12),((25,1),25),((20,2),10),((30,3),30),((35,4),15),((10,5),18),((50,6),10)]    #select any 4 Q-values\n",
    "    for q_values in sample_q_values:\n",
    "        state = q_values[0]\n",
    "        action = q_values[1]\n",
    "        States_track[state][action] = []    #this is an array which will have appended values of that state-action pair for every 2000th episode   \n",
    "        \n",
    "        \n",
    "        "
   ]
  },
  {
   "cell_type": "code",
   "execution_count": null,
   "metadata": {
    "colab": {},
    "colab_type": "code",
    "id": "XBGG1J7e9IJk"
   },
   "outputs": [],
   "source": [
    "#This function will append latest Q-values of the 4 Q-values which are being tracked for checking convergence\n",
    "\n",
    "def save_tracking_states():\n",
    "    for state in States_track.keys():\n",
    "        for action in States_track[state].keys():\n",
    "            if state in Q_dict and action in Q_dict[state]:\n",
    "                States_track[state][action].append(Q_dict[state][action])            "
   ]
  },
  {
   "cell_type": "code",
   "execution_count": null,
   "metadata": {
    "colab": {},
    "colab_type": "code",
    "id": "AfEU6TJLJbHo"
   },
   "outputs": [],
   "source": [
    "#Defining a function to save the Q-dictionary as a pickle file\n",
    "def save_obj(obj, name ):\n",
    "    with open(name + '.pkl', 'wb') as f:\n",
    "        pickle.dump(obj, f, pickle.HIGHEST_PROTOCOL)"
   ]
  },
  {
   "cell_type": "markdown",
   "metadata": {
    "colab_type": "text",
    "id": "AwYafQQFJbHq"
   },
   "source": [
    "### Agent Class\n",
    "\n",
    "If you are using this framework, you need to fill the following to complete the following code block:\n",
    "1. State and Action Size\n",
    "2. Hyperparameters\n",
    "3. Create a neural-network model in function 'build_model()'\n",
    "4. Define epsilon-greedy strategy in function 'get_action()'\n",
    "5. Complete the function 'append_sample()'. This function appends the recent experience tuple <state, action, reward, new-state> to the memory\n",
    "6. Complete the 'train_model()' function with following logic:\n",
    "   - If the memory size is greater than mini-batch size, you randomly sample experiences from memory as per the mini-batch size and do the following:\n",
    "      - Initialise your input and output batch for training the model\n",
    "      - Calculate the target Q value for each sample: reward + gamma*max(Q(s'a,))\n",
    "      - Get Q(s', a) values from the last trained model\n",
    "      - Update the input batch as your encoded state and output batch as your Q-values\n",
    "      - Then fit your DQN model using the updated input and output batch."
   ]
  },
  {
   "cell_type": "code",
   "execution_count": null,
   "metadata": {
    "colab": {},
    "colab_type": "code",
    "id": "FFaHL86wJbHr"
   },
   "outputs": [],
   "source": [
    "class DQNAgent:\n",
    "    def __init__(self, state_size, action_size, discount_factor=0.95, learning_rate=0.01,\n",
    "                       epsilon=1, epsilon_decay=0.99, epsilon_min=0.01):\n",
    "        # Define size of state and action\n",
    "        self.state_size = state_size\n",
    "        self.action_size = action_size\n",
    "\n",
    "        # Write here: Specify you hyper parameters for the DQN\n",
    "        self.discount_factor = discount_factor\n",
    "        self.learning_rate = learning_rate       \n",
    "        self.epsilon = epsilon\n",
    "        self.epsilon_decay = epsilon_decay\n",
    "        self.epsilon_min = epsilon_min\n",
    "        \n",
    "        self.batch_size = 32        \n",
    "        # create replay memory using deque\n",
    "        self.memory = deque(maxlen=2000)\n",
    "\n",
    "        # create main model and target model\n",
    "        self.model = self.build_model()\n",
    "\n",
    "    # approximate Q function using Neural Network\n",
    "    def build_model(self):\n",
    "        # the input is a vector representing a state (of size 4 in case of cartpole) \n",
    "        input_shape = self.state_size\n",
    "\n",
    "        model = Sequential()\n",
    "\n",
    "        # hidden layers\n",
    "        #model.add(Dense(32, input_shape==(self.state_size,), activation='relu', kernel_initializer='he_uniform'))\n",
    "        model.add(Dense(32, input_dim=36, activation='relu', kernel_initializer='he_uniform'))\n",
    "        model.add(Dense(32, activation='relu', kernel_initializer='he_uniform'))\n",
    "\n",
    "        # the output layer: output is of size num_actions\n",
    "        model.add(Dense(self.action_size, activation='relu', kernel_initializer='he_uniform'))\n",
    "\n",
    "        \n",
    "        model.compile(loss='mse', optimizer=Adam(lr=self.learning_rate))\n",
    "        model.summary\n",
    "        return model\n",
    "     \n",
    "       \n",
    "\n",
    "\n",
    "    def get_action(self, state):\n",
    "    # Write your code here:\n",
    "    # get action from model using epsilon-greedy policy\n",
    "    # Decay in ε after we generate each sample from the environment\n",
    "      \n",
    "      print(\"current state {0}\".format(state))\n",
    "      if np.random.rand() <= self.epsilon:\n",
    "            # explore: choose a random action from all possible actions\n",
    "            # in case of cartpole this will randomly choose an action between 0 and 1\n",
    "            return env.get_random_action(state)\n",
    "            \n",
    "      else:\n",
    "            # choose the action with the highest q(s, a)\n",
    "            # the first index corresponds to the batch size, so\n",
    "            # reshape state to (1, state_size) so that the first index corresponds to the batch size\n",
    "            \n",
    "            print(\"Using q value method\")\n",
    "            state = self.envObj.state_encod_arch1(state)\n",
    "            state = state.reshape(1, 36)\n",
    "            q_value = self.model.predict(state)\n",
    "            print(\"qvalue {0}\".format(q_value))\n",
    "            return np.argmax(q_value[0])    \n",
    "        \n",
    "        \n",
    "        \n",
    "        \n",
    "\n",
    "\n",
    "    def append_sample(self, state, action, reward, next_state):\n",
    "    # Write your code here:\n",
    "    # save sample <s,a,r,s'> to the replay memory\n",
    "      self.memory.append((state, action, reward, next_state))\n",
    "    \n",
    "    \n",
    "    \n",
    "    # pick samples randomly from replay memory (with batch_size) and train the network\n",
    "    def train_model(self, envObj):\n",
    "        self.envObj = envObj\n",
    "        \n",
    "        if len(self.memory) > self.batch_size:\n",
    "            # Sample batch from the memory\n",
    "            mini_batch = random.sample(self.memory, self.batch_size)\n",
    "            #update_output = np.zeros((self.batch_size, self.state_size), dtype=object)\n",
    "            update_output = np.zeros((self.batch_size, 36))\n",
    "            update_input = np.zeros((self.batch_size, 36))\n",
    "            #update_input = np.zeros((self.batch_size, self.state_size), dtype=object)\n",
    "            \n",
    "            actions, rewards, done = [], [], []\n",
    "            \n",
    "            for i in range(self.batch_size):\n",
    "                state, action, reward, next_state = mini_batch[i]\n",
    "                \n",
    "                state_encod = envObj.state_encod_arch1(state)\n",
    "                \n",
    "                #state_encod = state_encod.reshape(1, self.state_size)\n",
    "                \n",
    "                next_state_encod = envObj.state_encod_arch1(next_state)\n",
    "                \n",
    "                \n",
    "                ##### new code\n",
    "                update_input[i] = state_encod\n",
    "                actions.append(action)\n",
    "                rewards.append(reward)\n",
    "                update_output[i] = next_state_encod\n",
    "                \n",
    "                #done.append(done_boolean)\n",
    "\n",
    "            # predict the target q-values from states s\n",
    "            target = self.model.predict(update_input)\n",
    "            print(np.size(target)) \n",
    "            print(np.size(target, 0))\n",
    "            print(np.size(target, 1))\n",
    "            #print(target)\n",
    "\n",
    "            # target for q-network\n",
    "            target_qval = self.model.predict(update_output)\n",
    "\n",
    "            # update the target values\n",
    "            for i in range(self.batch_size):\n",
    "              #if done[i]:\n",
    "              #  target[i][actions[i]] = rewards[i]\n",
    "              # non-terminal state  \n",
    "              #else: \n",
    "              \n",
    "              #print(\"value of i: %s\"%i)\n",
    "              #print(\"actions {0}\".format(actions[i]))\n",
    "             \n",
    "              target[i][actions[i]] = rewards[i] + self.discount_factor * np.max(target_qval[i])\n",
    "\n",
    "            # model fit\n",
    "            self.model.fit(update_input, target, batch_size=self.batch_size, epochs=1, verbose=0)\n",
    "                \n",
    "                \n",
    "                # Write your code from here\n",
    "                # 1. Predict the target from earlier model\n",
    "                \n",
    "                \n",
    "                # 2. Get the target for the Q-network\n",
    "                \n",
    "                \n",
    "                #3. Update your 'update_output' and 'update_input' batch\n",
    "\n",
    "                \n",
    "                \n",
    "        # 4. Fit your model and track the loss values\n",
    "\n",
    "\n",
    "    def save(self, name):\n",
    "      self.model.save(name)"
   ]
  },
  {
   "cell_type": "code",
   "execution_count": null,
   "metadata": {
    "colab": {},
    "colab_type": "code",
    "id": "2HUhWtuUJbHu"
   },
   "outputs": [],
   "source": [
    "Episodes = 30\n",
    "Episode_end_point = 30\n",
    "threshold = 1"
   ]
  },
  {
   "cell_type": "markdown",
   "metadata": {
    "colab_type": "text",
    "id": "MNPUTeAJJbHx"
   },
   "source": [
    "### DQN block"
   ]
  },
  {
   "cell_type": "code",
   "execution_count": null,
   "metadata": {
    "colab": {
     "base_uri": "https://localhost:8080/",
     "height": 3882174,
     "output_embedded_package_id": "1TAxNGHrGq1CeM2RPerBMPtVUyywRpt0I"
    },
    "colab_type": "code",
    "executionInfo": {
     "elapsed": 71973,
     "status": "ok",
     "timestamp": 1550864379154,
     "user": {
      "displayName": "Abhishek Srivastava",
      "photoUrl": "",
      "userId": "01956589398473743560"
     },
     "user_tz": -330
    },
    "id": "q_Jj2VoMJbHy",
    "outputId": "0620956a-ffc4-4160-8e8b-85a53226c5fc"
   },
   "outputs": [],
   "source": [
    "# to store rewards in each episode\n",
    "from Env import CabDriver\n",
    "env = CabDriver()\n",
    "\n",
    "rewards_per_episode, episodes = [], []\n",
    "state = env.state\n",
    "state_size = len(env.state)\n",
    "action_size = env.action_size\n",
    "\n",
    "# agent needs to be initialised outside the loop since the DQN\n",
    "# network will be initialised along with the agent\n",
    "agent = DQNAgent(action_size=action_size, state_size=state_size)\n",
    "\n",
    "for episode in range(Episodes):\n",
    "\n",
    "    # Write code here\n",
    "    # Call the environment\n",
    "    # Call all the initialised variables of the environment\n",
    "    \n",
    "    \n",
    "    # Import the environment\n",
    "    \n",
    "\n",
    "    # get size of state and action from environment\n",
    "\n",
    "    \n",
    "    \n",
    "    num_of_days = 0\n",
    "    done = False\n",
    "    score = 0\n",
    "\n",
    "    \n",
    "   \n",
    "\n",
    "    # make dir to store model weights\n",
    "    #if not os.path.exists(\"saved_model_weights\"):\n",
    "    #    os.mkdir(\"saved_model_weights\")\n",
    "    \n",
    "\n",
    "    #Call the DQN agent\n",
    "    \n",
    "    \n",
    "    while not done:\n",
    "        \n",
    "        # Write your code here\n",
    "        # 1. Pick epsilon-greedy action from possible actions for the current state\n",
    "        # 2. Evaluate your reward and next state\n",
    "        # 3. Append the experience to the memory\n",
    "        # 4. Train the model by calling function agent.train_model\n",
    "        # 5. Keep a track of rewards, Q-values, loss\n",
    "        \n",
    "        \n",
    "        # get action for the current state and take a step in the environment\n",
    "        action = agent.get_action(state)\n",
    "        print(\"Action at this state {0}\".format(env.action_space[action]))\n",
    "        next_state, reward = env.step(state, action, Time_matrix)\n",
    "\n",
    "        num_of_days += 1\n",
    "        if num_of_days == 30:\n",
    "          done = True\n",
    "        # save the sample <s, a, r, s', done> to the replay memory\n",
    "        agent.append_sample(state, action, reward, next_state)\n",
    "\n",
    "        # train after each step\n",
    "        agent.train_model(env)\n",
    "\n",
    "        # add reward to the total score of this episode\n",
    "        score += reward\n",
    "        state = next_state\n",
    "        \n",
    "        \n",
    "\n",
    "    # store total reward obtained in this episode\n",
    "    rewards_per_episode.append(score)\n",
    "    episodes.append(episode)\n",
    "\n",
    "    # epsilon decay\n",
    "    if agent.epsilon > agent.epsilon_min:\n",
    "        agent.epsilon *= agent.epsilon_decay\n",
    "\n",
    "    # every episode:\n",
    "    print(\"episode {0}, reward {1}, memory_length {2}, epsilon {3}\".format(episode,\n",
    "                                                                         score,\n",
    "                                                                         len(agent.memory),\n",
    "                                                                         agent.epsilon))\n",
    "    TRACKING Q-VALUES\n",
    "    if (episode == threshold-1):        #at the 1999th episode\n",
    "        initialise_tracking_states()\n",
    "    \n",
    "    # every few episodes:\n",
    "    if episode % 10 == 0:\n",
    "        # store q-values of some prespecified state-action pairs\n",
    "        # q_dict = agent.store_q_values()\n",
    "\n",
    "        # save model weights\n",
    "        model_weight_file = model_weight_folder + \"model_weights.h5\"\n",
    "        agent.save(name=model_weight_file)\n",
    "        "
   ]
  },
  {
   "cell_type": "code",
   "execution_count": null,
   "metadata": {
    "colab": {},
    "colab_type": "code",
    "id": "RmudQntcJbH1"
   },
   "outputs": [],
   "source": [
    "def save_pickle(obj, name):\n",
    "    with open(name + '.pkl', 'wb') as f:\n",
    "        pickle.dump(obj, f, pickle.HIGHEST_PROTOCOL)"
   ]
  },
  {
   "cell_type": "code",
   "execution_count": null,
   "metadata": {
    "colab": {
     "base_uri": "https://localhost:8080/",
     "height": 398
    },
    "colab_type": "code",
    "executionInfo": {
     "elapsed": 73056,
     "status": "ok",
     "timestamp": 1550864380255,
     "user": {
      "displayName": "Abhishek Srivastava",
      "photoUrl": "",
      "userId": "01956589398473743560"
     },
     "user_tz": -330
    },
    "id": "_pw3sLCRJbH3",
    "outputId": "e43f989d-3365-4789-bbbf-e1f8e76b4f06"
   },
   "outputs": [],
   "source": [
    "# make directory\n",
    "if not os.path.exists(\"saved_pickle_files\"):\n",
    "    os.mkdir(\"saved_pickle_files\")\n",
    "\n",
    "# save rewards_per_episode\n",
    "\n",
    "rewards_file = model_weight_folder + \"rewards_per_episode\"\n",
    "save_pickle(rewards_per_episode, rewards_file)\n",
    "\n",
    "\n",
    "rewards_file = rewards_file + \".pkl\"\n",
    "\n",
    "# plot results\n",
    "with open(rewards_file, 'rb') as f:\n",
    "    rewards_per_episode = pickle.load(f)\n",
    "\n",
    "print(\"rewards_per_episode: %s\"%rewards_per_episode) \n",
    "plt.plot(list(range(len(rewards_per_episode))), rewards_per_episode)\n",
    "plt.xlabel(\"episode number\")\n",
    "plt.ylabel(\"reward per episode\")\n",
    "\n",
    "plt.show()"
   ]
  },
  {
   "cell_type": "markdown",
   "metadata": {
    "colab_type": "text",
    "id": "QxBQG-znJbH4"
   },
   "source": [
    "### Tracking Convergence"
   ]
  },
  {
   "cell_type": "code",
   "execution_count": null,
   "metadata": {
    "colab": {},
    "colab_type": "code",
    "id": "E0xva8FaJbH5"
   },
   "outputs": [],
   "source": []
  },
  {
   "cell_type": "code",
   "execution_count": null,
   "metadata": {
    "colab": {},
    "colab_type": "code",
    "id": "RisWxAL8JbH7"
   },
   "outputs": [],
   "source": []
  },
  {
   "cell_type": "code",
   "execution_count": null,
   "metadata": {
    "colab": {},
    "colab_type": "code",
    "id": "EV9YHcDQJbH_"
   },
   "outputs": [],
   "source": []
  },
  {
   "cell_type": "markdown",
   "metadata": {
    "colab_type": "text",
    "id": "KDhXOkmnJbIC"
   },
   "source": [
    "#### Epsilon-decay sample function"
   ]
  },
  {
   "cell_type": "markdown",
   "metadata": {
    "colab_type": "text",
    "id": "iBNoMxLpJbIC"
   },
   "source": [
    "<div class=\"alert alert-block alert-info\">\n",
    "Try building a similar epsilon-decay function for your model.\n",
    "</div>"
   ]
  },
  {
   "cell_type": "code",
   "execution_count": null,
   "metadata": {
    "colab": {},
    "colab_type": "code",
    "id": "mkjnqwDkJbID"
   },
   "outputs": [],
   "source": [
    "time = np.arange(0,10000)\n",
    "epsilon = []\n",
    "for i in range(0,10000):\n",
    "    epsilon.append(0 + (1 - 0) * np.exp(-0.0009*i))"
   ]
  },
  {
   "cell_type": "code",
   "execution_count": null,
   "metadata": {
    "colab": {
     "base_uri": "https://localhost:8080/",
     "height": 347
    },
    "colab_type": "code",
    "executionInfo": {
     "elapsed": 73684,
     "status": "ok",
     "timestamp": 1550864380915,
     "user": {
      "displayName": "Abhishek Srivastava",
      "photoUrl": "",
      "userId": "01956589398473743560"
     },
     "user_tz": -330
    },
    "id": "Q1iLfNOPJbIF",
    "outputId": "4acf8372-aec2-4443-8515-477006476ba5"
   },
   "outputs": [],
   "source": [
    "plt.plot(time, epsilon)\n",
    "plt.show()"
   ]
  },
  {
   "cell_type": "code",
   "execution_count": null,
   "metadata": {
    "colab": {},
    "colab_type": "code",
    "id": "08AVDkE2JbIL"
   },
   "outputs": [],
   "source": []
  }
 ],
 "metadata": {
  "colab": {
   "collapsed_sections": [],
   "name": "DQN_Agent_Arch1.ipynb",
   "provenance": [],
   "version": "0.3.2"
  },
  "kernelspec": {
   "display_name": "Python 3",
   "language": "python",
   "name": "python3"
  },
  "language_info": {
   "codemirror_mode": {
    "name": "ipython",
    "version": 3
   },
   "file_extension": ".py",
   "mimetype": "text/x-python",
   "name": "python",
   "nbconvert_exporter": "python",
   "pygments_lexer": "ipython3",
   "version": "3.6.5"
  }
 },
 "nbformat": 4,
 "nbformat_minor": 1
}
